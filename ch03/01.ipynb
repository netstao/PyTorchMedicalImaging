{
 "cells": [
  {
   "cell_type": "code",
   "execution_count": null,
   "metadata": {},
   "outputs": [],
   "source": [
    "# 工业级数据的挖掘流程\n",
    "1. 理解业务\n",
    "2. 理解数据\n",
    "3. 准备数据\n",
    "4. 构建模型\n",
    "5. 模型评估\n",
    "6. 模型上线"
   ]
  },
  {
   "cell_type": "markdown",
   "metadata": {},
   "source": []
  }
 ],
 "metadata": {
  "language_info": {
   "name": "python"
  }
 },
 "nbformat": 4,
 "nbformat_minor": 2
}
